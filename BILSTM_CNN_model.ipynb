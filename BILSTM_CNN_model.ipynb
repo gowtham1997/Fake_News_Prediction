{
 "cells": [
  {
   "cell_type": "code",
   "execution_count": 1,
   "metadata": {},
   "outputs": [],
   "source": [
    "%load_ext autoreload\n",
    "%autoreload 2"
   ]
  },
  {
   "cell_type": "code",
   "execution_count": 2,
   "metadata": {},
   "outputs": [
    {
     "name": "stderr",
     "output_type": "stream",
     "text": [
      "Using TensorFlow backend.\n",
      "WARNING: Logging before flag parsing goes to stderr.\n",
      "W0809 20:18:55.795169 139740363224896 deprecation_wrapper.py:119] From /home/gowtham/Desktop/Learning/fake_news/utils.py:6: The name tf.enable_eager_execution is deprecated. Please use tf.compat.v1.enable_eager_execution instead.\n",
      "\n"
     ]
    }
   ],
   "source": [
    "# https://arxiv.org/pdf/1811.04670.pdf -> trying to implement this\n",
    "import pandas as pd\n",
    "\n",
    "import utils\n",
    "import nnlm_eager as nnlm\n",
    "import models\n",
    "import train\n",
    "import time\n",
    "import os\n",
    "\n",
    "from tensorflow.keras import optimizers\n",
    "\n",
    "import tensorflow as tf\n",
    "tf.enable_eager_execution()"
   ]
  },
  {
   "cell_type": "code",
   "execution_count": 3,
   "metadata": {},
   "outputs": [
    {
     "name": "stderr",
     "output_type": "stream",
     "text": [
      "400000it [00:32, 12158.12it/s]\n"
     ]
    }
   ],
   "source": [
    "glove_dict = utils.prepare_glove_dict('pretrained_embeddings/glove/glove.6B.300d.txt')"
   ]
  },
  {
   "cell_type": "code",
   "execution_count": 4,
   "metadata": {},
   "outputs": [
    {
     "name": "stdout",
     "output_type": "stream",
     "text": [
      "{'false', 'half-true', 'mostly-true', 'pants-fire', 'barely-true', 'true'} {'true', 'mostly-true', 'half-true'} {'barely-true', 'pants-fire', 'false'}\n",
      "train_df shape  : (10240, 16)\n",
      "val_df shape    : (1284, 16)\n",
      "test_df shape   : (1267, 16)\n"
     ]
    }
   ],
   "source": [
    "# read dataframes\n",
    "train_df = pd.read_csv('LIAR-PLUS/dataset/train2.tsv', sep='\\t', header=None)\n",
    "val_df = pd.read_csv('LIAR-PLUS/dataset/val2.tsv', sep='\\t', header=None)\n",
    "test_df = pd.read_csv('LIAR-PLUS/dataset/test2.tsv', sep='\\t', header=None)\n",
    "# drop the first column which is just the indexes\n",
    "train_df.drop([0], axis=1, inplace=True)\n",
    "val_df.drop([0], axis=1, inplace=True)\n",
    "test_df.drop([0], axis=1, inplace=True)\n",
    "# change column names\n",
    "column_names = ['id', 'label', 'statement', 'subjects', 'speaker',\n",
    "                'speaker_job_title', 'state', 'party',\n",
    "                'barely_true_counts', 'false_counts', 'half_true_counts',\n",
    "                'mostly_true_counts', 'pants_fire_counts', 'context',\n",
    "                'justification']\n",
    "\n",
    "train_df.columns = column_names\n",
    "val_df.columns = column_names\n",
    "test_df.columns = column_names\n",
    "# split labels for binarising \n",
    "unique_labels = set(train_df['label'].unique())\n",
    "true_labels = set(['true', 'mostly-true', 'half-true'])\n",
    "false_labels = set.difference(unique_labels, true_labels)\n",
    "\n",
    "print(unique_labels, true_labels, false_labels)\n",
    "def binarise_label(label):\n",
    "    if label in true_labels:\n",
    "        return True\n",
    "    else:\n",
    "        return False\n",
    "updated_column_names = column_names[:2] + ['binary_label'] + column_names[2:]\n",
    "\n",
    "train_df['binary_label'] = train_df['label'].map(binarise_label)\n",
    "val_df['binary_label'] = val_df['label'].map(binarise_label)\n",
    "test_df['binary_label'] = test_df['label'].map(binarise_label)\n",
    "\n",
    "train_df = train_df.reindex(columns=updated_column_names)\n",
    "val_df = val_df.reindex(columns=updated_column_names)\n",
    "test_df = test_df.reindex(columns=updated_column_names)\n",
    "\n",
    "\n",
    "print('train_df shape  :',train_df.shape)\n",
    "print('val_df shape    :',val_df.shape)\n",
    "print('test_df shape   :',test_df.shape)"
   ]
  },
  {
   "cell_type": "code",
   "execution_count": 5,
   "metadata": {},
   "outputs": [],
   "source": [
    "from sklearn import preprocessing\n",
    "\n",
    "le = preprocessing.LabelEncoder()\n",
    "le.fit(train_df['label'].values)\n",
    "train_df['label_encoded'] = le.transform(train_df['label'].values)\n",
    "val_df['label_encoded'] = le.transform(val_df['label'].values)\n",
    "test_df['label_encoded'] = le.transform(test_df['label'].values)\n",
    "\n",
    "\n",
    "# lets merge all the dfs for eda on the whole set\n",
    "merged_df = train_df.append(val_df).append(test_df)\n",
    "\n",
    "merged_df = merged_df.apply(lambda x: x.str.lower() if x.dtype == \"object\" else x)\n",
    "train_df = train_df.apply(lambda x: x.str.lower() if x.dtype == \"object\" else x) \n",
    "val_df = val_df.apply(lambda x: x.str.lower() if x.dtype == \"object\" else x)\n",
    "test_df = test_df.apply(lambda x: x.str.lower() if x.dtype == \"object\" else x) "
   ]
  },
  {
   "cell_type": "code",
   "execution_count": 6,
   "metadata": {},
   "outputs": [],
   "source": [
    "# TRAIN_CSV_PATH = 'LIAR-PLUS/dataset/train2.csv'\n",
    "# VAL_CSV_PATH = 'LIAR-PLUS/dataset/val2.csv'\n",
    "# TEST_CSV_PATH = 'LIAR-PLUS/dataset/test2.csv'\n",
    "\n",
    "# EMBEDDING_DIR = 'pretrained_embeddings/glove/'\n",
    "\n",
    "\n",
    "MAX_LEN_STATMENT = 50\n",
    "MAX_LEN_JUSTIFICATION = 100\n",
    "\n",
    "LSTM_HIDDEN_UNITS_STATEMENT = 256\n",
    "LSTM_HIDDEN_UNITS_JUSTIFICATION = 256\n",
    "\n",
    "META_MODEL_UNITS = 256\n",
    "COUNTS_MODEL_UNITS = 64\n",
    "MULTIMODE_MODEL_UNITS = 1024\n",
    "\n",
    "EMBEDDING_DIM = 128\n",
    "\n",
    "SENTENCE_ENCODER = 'GLOVE'\n",
    "\n",
    "BINARY_CLASSIFICATION = False\n",
    "\n",
    "if BINARY_CLASSIFICATION:\n",
    "    NUM_CLASSES = 2\n",
    "    CHECKPOINT_PATH = 'checkpoints_binary/'\n",
    "else:\n",
    "    NUM_CLASSES = 6\n",
    "    CHECKPOINT_PATH = 'checkpoints_multiclass/'\n",
    "\n",
    "NUM_EPOCHS = 20\n",
    "BATCH_SIZE = 32\n",
    "LEARNING_RATE = 0.001\n",
    "\n",
    "TRAIN_TEXT_ENCODER = False\n",
    "REPEAT_FIRST_BATCH = False\n"
   ]
  },
  {
   "cell_type": "code",
   "execution_count": 7,
   "metadata": {},
   "outputs": [
    {
     "data": {
      "text/html": [
       "<div>\n",
       "<style scoped>\n",
       "    .dataframe tbody tr th:only-of-type {\n",
       "        vertical-align: middle;\n",
       "    }\n",
       "\n",
       "    .dataframe tbody tr th {\n",
       "        vertical-align: top;\n",
       "    }\n",
       "\n",
       "    .dataframe thead th {\n",
       "        text-align: right;\n",
       "    }\n",
       "</style>\n",
       "<table border=\"1\" class=\"dataframe\">\n",
       "  <thead>\n",
       "    <tr style=\"text-align: right;\">\n",
       "      <th></th>\n",
       "      <th>id</th>\n",
       "      <th>label</th>\n",
       "      <th>binary_label</th>\n",
       "      <th>statement</th>\n",
       "      <th>subjects</th>\n",
       "      <th>speaker</th>\n",
       "      <th>speaker_job_title</th>\n",
       "      <th>state</th>\n",
       "      <th>party</th>\n",
       "      <th>barely_true_counts</th>\n",
       "      <th>false_counts</th>\n",
       "      <th>half_true_counts</th>\n",
       "      <th>mostly_true_counts</th>\n",
       "      <th>pants_fire_counts</th>\n",
       "      <th>context</th>\n",
       "      <th>justification</th>\n",
       "      <th>label_encoded</th>\n",
       "    </tr>\n",
       "  </thead>\n",
       "  <tbody>\n",
       "    <tr>\n",
       "      <th>0</th>\n",
       "      <td>2635.json</td>\n",
       "      <td>false</td>\n",
       "      <td>False</td>\n",
       "      <td>says the annies list political group supports ...</td>\n",
       "      <td>abortion</td>\n",
       "      <td>dwayne-bohac</td>\n",
       "      <td>state representative</td>\n",
       "      <td>texas</td>\n",
       "      <td>republican</td>\n",
       "      <td>0.0</td>\n",
       "      <td>1.0</td>\n",
       "      <td>0.0</td>\n",
       "      <td>0.0</td>\n",
       "      <td>0.0</td>\n",
       "      <td>a mailer</td>\n",
       "      <td>that's a premise that he fails to back up. ann...</td>\n",
       "      <td>1</td>\n",
       "    </tr>\n",
       "    <tr>\n",
       "      <th>1</th>\n",
       "      <td>10540.json</td>\n",
       "      <td>half-true</td>\n",
       "      <td>True</td>\n",
       "      <td>when did the decline of coal start? it started...</td>\n",
       "      <td>energy,history,job-accomplishments</td>\n",
       "      <td>scott-surovell</td>\n",
       "      <td>state delegate</td>\n",
       "      <td>virginia</td>\n",
       "      <td>democrat</td>\n",
       "      <td>0.0</td>\n",
       "      <td>0.0</td>\n",
       "      <td>1.0</td>\n",
       "      <td>1.0</td>\n",
       "      <td>0.0</td>\n",
       "      <td>a floor speech.</td>\n",
       "      <td>surovell said the decline of coal \"started whe...</td>\n",
       "      <td>2</td>\n",
       "    </tr>\n",
       "    <tr>\n",
       "      <th>2</th>\n",
       "      <td>324.json</td>\n",
       "      <td>mostly-true</td>\n",
       "      <td>True</td>\n",
       "      <td>hillary clinton agrees with john mccain \"by vo...</td>\n",
       "      <td>foreign-policy</td>\n",
       "      <td>barack-obama</td>\n",
       "      <td>president</td>\n",
       "      <td>illinois</td>\n",
       "      <td>democrat</td>\n",
       "      <td>70.0</td>\n",
       "      <td>71.0</td>\n",
       "      <td>160.0</td>\n",
       "      <td>163.0</td>\n",
       "      <td>9.0</td>\n",
       "      <td>denver</td>\n",
       "      <td>obama said he would have voted against the ame...</td>\n",
       "      <td>3</td>\n",
       "    </tr>\n",
       "    <tr>\n",
       "      <th>3</th>\n",
       "      <td>1123.json</td>\n",
       "      <td>false</td>\n",
       "      <td>False</td>\n",
       "      <td>health care reform legislation is likely to ma...</td>\n",
       "      <td>health-care</td>\n",
       "      <td>blog-posting</td>\n",
       "      <td>NaN</td>\n",
       "      <td>NaN</td>\n",
       "      <td>none</td>\n",
       "      <td>7.0</td>\n",
       "      <td>19.0</td>\n",
       "      <td>3.0</td>\n",
       "      <td>5.0</td>\n",
       "      <td>44.0</td>\n",
       "      <td>a news release</td>\n",
       "      <td>the release may have a point that mikulskis co...</td>\n",
       "      <td>1</td>\n",
       "    </tr>\n",
       "    <tr>\n",
       "      <th>4</th>\n",
       "      <td>9028.json</td>\n",
       "      <td>half-true</td>\n",
       "      <td>True</td>\n",
       "      <td>the economic turnaround started at the end of ...</td>\n",
       "      <td>economy,jobs</td>\n",
       "      <td>charlie-crist</td>\n",
       "      <td>NaN</td>\n",
       "      <td>florida</td>\n",
       "      <td>democrat</td>\n",
       "      <td>15.0</td>\n",
       "      <td>9.0</td>\n",
       "      <td>20.0</td>\n",
       "      <td>19.0</td>\n",
       "      <td>2.0</td>\n",
       "      <td>an interview on cnn</td>\n",
       "      <td>crist said that the economic \"turnaround start...</td>\n",
       "      <td>2</td>\n",
       "    </tr>\n",
       "  </tbody>\n",
       "</table>\n",
       "</div>"
      ],
      "text/plain": [
       "           id        label  binary_label  \\\n",
       "0   2635.json        false         False   \n",
       "1  10540.json    half-true          True   \n",
       "2    324.json  mostly-true          True   \n",
       "3   1123.json        false         False   \n",
       "4   9028.json    half-true          True   \n",
       "\n",
       "                                           statement  \\\n",
       "0  says the annies list political group supports ...   \n",
       "1  when did the decline of coal start? it started...   \n",
       "2  hillary clinton agrees with john mccain \"by vo...   \n",
       "3  health care reform legislation is likely to ma...   \n",
       "4  the economic turnaround started at the end of ...   \n",
       "\n",
       "                             subjects         speaker     speaker_job_title  \\\n",
       "0                            abortion    dwayne-bohac  state representative   \n",
       "1  energy,history,job-accomplishments  scott-surovell        state delegate   \n",
       "2                      foreign-policy    barack-obama             president   \n",
       "3                         health-care    blog-posting                   NaN   \n",
       "4                        economy,jobs   charlie-crist                   NaN   \n",
       "\n",
       "      state       party  barely_true_counts  false_counts  half_true_counts  \\\n",
       "0     texas  republican                 0.0           1.0               0.0   \n",
       "1  virginia    democrat                 0.0           0.0               1.0   \n",
       "2  illinois    democrat                70.0          71.0             160.0   \n",
       "3       NaN        none                 7.0          19.0               3.0   \n",
       "4   florida    democrat                15.0           9.0              20.0   \n",
       "\n",
       "   mostly_true_counts  pants_fire_counts              context  \\\n",
       "0                 0.0                0.0             a mailer   \n",
       "1                 1.0                0.0      a floor speech.   \n",
       "2               163.0                9.0               denver   \n",
       "3                 5.0               44.0       a news release   \n",
       "4                19.0                2.0  an interview on cnn   \n",
       "\n",
       "                                       justification  label_encoded  \n",
       "0  that's a premise that he fails to back up. ann...              1  \n",
       "1  surovell said the decline of coal \"started whe...              2  \n",
       "2  obama said he would have voted against the ame...              3  \n",
       "3  the release may have a point that mikulskis co...              1  \n",
       "4  crist said that the economic \"turnaround start...              2  "
      ]
     },
     "execution_count": 7,
     "metadata": {},
     "output_type": "execute_result"
    }
   ],
   "source": [
    "merged_df.head()"
   ]
  },
  {
   "cell_type": "code",
   "execution_count": 8,
   "metadata": {},
   "outputs": [
    {
     "data": {
      "text/plain": [
       "((10240, 17), (1284, 17), (1267, 17))"
      ]
     },
     "execution_count": 8,
     "metadata": {},
     "output_type": "execute_result"
    }
   ],
   "source": []
  },
  {
   "cell_type": "code",
   "execution_count": 22,
   "metadata": {},
   "outputs": [
    {
     "name": "stdout",
     "output_type": "stream",
     "text": [
      "vocab_size for statement is 10001\n"
     ]
    },
    {
     "data": {
      "application/vnd.jupyter.widget-view+json": {
       "model_id": "29ccb76d69904a939fd5620ebb207bd7",
       "version_major": 2,
       "version_minor": 0
      },
      "text/plain": [
       "HBox(children=(IntProgress(value=0, max=10001), HTML(value='')))"
      ]
     },
     "metadata": {},
     "output_type": "display_data"
    },
    {
     "name": "stdout",
     "output_type": "stream",
     "text": [
      "vocab_size for speaker_job_title is 1375\n"
     ]
    },
    {
     "data": {
      "application/vnd.jupyter.widget-view+json": {
       "model_id": "4366b89a3a45478f83f0e39fdb3a2c9c",
       "version_major": 2,
       "version_minor": 0
      },
      "text/plain": [
       "HBox(children=(IntProgress(value=0, max=1375), HTML(value='')))"
      ]
     },
     "metadata": {},
     "output_type": "display_data"
    },
    {
     "name": "stdout",
     "output_type": "stream",
     "text": [
      "vocab_size for context is 3303\n"
     ]
    },
    {
     "data": {
      "application/vnd.jupyter.widget-view+json": {
       "model_id": "2ad044c195fa46c39bb0494434fa0ae8",
       "version_major": 2,
       "version_minor": 0
      },
      "text/plain": [
       "HBox(children=(IntProgress(value=0, max=3303), HTML(value='')))"
      ]
     },
     "metadata": {},
     "output_type": "display_data"
    },
    {
     "name": "stdout",
     "output_type": "stream",
     "text": [
      "vocab_size for subjects is 4536\n"
     ]
    },
    {
     "data": {
      "application/vnd.jupyter.widget-view+json": {
       "model_id": "3150ea87fe6a4b718f2e7f06bc587eff",
       "version_major": 2,
       "version_minor": 0
      },
      "text/plain": [
       "HBox(children=(IntProgress(value=0, max=4536), HTML(value='')))"
      ]
     },
     "metadata": {},
     "output_type": "display_data"
    }
   ],
   "source": [
    "# encoding text columns for BILSTM\n",
    "statements_tf, statement_utils, statement_emb_matrix = utils.prepare_text_column(\n",
    "    merged_df, 'statement', 50, glove_dict)\n",
    "jobs_tf, jobs_utils, jobs_emb_matrix = utils.prepare_text_column(\n",
    "    merged_df, 'speaker_job_title', 20, glove_dict)\n",
    "contexts_tf, contexts_utils, contexts_emb_matrix = utils.prepare_text_column(\n",
    "    merged_df, 'context', 25, glove_dict)\n",
    "subjects_tf, subjects_utils, subjects_emb_matrix = utils.prepare_text_column(\n",
    "    merged_df, 'subjects', 5, glove_dict)"
   ]
  },
  {
   "cell_type": "code",
   "execution_count": null,
   "metadata": {},
   "outputs": [],
   "source": [
    "train_size = train_df.shape[0]\n",
    "train_val_size = train_df.shape[0] + val_df.shape[0]\n",
    "\n",
    "train_statements, val_statements, test_statements = statements_tf[:train_size], \n",
    "                                                    statements_tf[train_size:train_val_size],\n",
    "                                                    statements_tf[train_val_size:]\n",
    "train_jobs, val_jobs, test_jobs = jobs_tf[:train_size], \n",
    "                                  jobs_tf[train_size:train_val_size],\n",
    "                                  jobs_tf[train_val_size:]\n",
    "train_contexts, val_contexts, test_contexts = contexts_tf[:train_size], \n",
    "                                              contexts_tf[train_size:train_val_size],\n",
    "                                              contexts_tf[train_val_size:]\n",
    "train_subjects, val_subjects, test_subjects = subjects_tf[:train_size], \n",
    "                                              subjects_tf[train_size:train_val_size],\n",
    "                                              subjects_tf[train_val_size:]"
   ]
  },
  {
   "cell_type": "code",
   "execution_count": null,
   "metadata": {},
   "outputs": [],
   "source": []
  }
 ],
 "metadata": {
  "kernelspec": {
   "display_name": "Python 3",
   "language": "python",
   "name": "python3"
  },
  "language_info": {
   "codemirror_mode": {
    "name": "ipython",
    "version": 3
   },
   "file_extension": ".py",
   "mimetype": "text/x-python",
   "name": "python",
   "nbconvert_exporter": "python",
   "pygments_lexer": "ipython3",
   "version": "3.6.8"
  }
 },
 "nbformat": 4,
 "nbformat_minor": 2
}
